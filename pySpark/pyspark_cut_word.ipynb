{
 "cells": [
  {
   "cell_type": "markdown",
   "metadata": {},
   "source": [
    "## pySpark 斷詞後存進 Hadoop"
   ]
  },
  {
   "cell_type": "code",
   "execution_count": null,
   "metadata": {
    "collapsed": true
   },
   "outputs": [],
   "source": [
    "# 起 spark session\n",
    "import pandas as pd\n",
    "import numpy as np\n",
    "import jieba\n",
    "import findspark\n",
    "findspark.init('/usr/local/spark')\n",
    "# 載入必要module\n",
    "from pyspark.sql import SparkSession\n",
    "import pyspark.sql.functions as fn\n",
    "from pyspark.sql import types\n",
    "ss = SparkSession.builder \\\n",
    "    .master( \"spark://192.168.1.52:7077\" ) \\\n",
    "    .appName( \"cut seg wiki\" ) \\\n",
    "    .config( \"spark.cores.max\", \"4\" ) \\\n",
    "    .config( \"spark.executor.memory\", \"12g\" ) \\\n",
    "    .config( \"spark.driver.memory\", \"24g\" ) \\\n",
    "    .config( \"spark.driver.maxResultSize\", \"16g\" ) \\\n",
    "    .getOrCreate()\n",
    "\n",
    "# \n"
   ]
  },
  {
   "cell_type": "markdown",
   "metadata": {},
   "source": [
    "### 斷詞"
   ]
  },
  {
   "cell_type": "code",
   "execution_count": null,
   "metadata": {
    "collapsed": true
   },
   "outputs": [],
   "source": [
    "# 匯入停用詞\n",
    "stopWord_set = set()\n",
    "stopWords_path = '/home/stat_jerry/stop_word_test1800.txt'\n",
    "with open( stopWords_path, 'r', encoding='utf-8') as stopwords:\n",
    "    for stopword in stopwords:\n",
    "        stopWord_set.add(stopword.strip('\\n'))\n",
    "        \n",
    "# 設定 UDF 使用 jieba 斷詞，並依停用詞來篩選。最後輸出格式為 array, 內容為 str\n",
    "def cut_stopWord(w):\n",
    "    l = []\n",
    "    seg = jieba.cut(w)\n",
    "    for word in seg:\n",
    "        if word not in stopWord_set:\n",
    "            if not word.isdigit():\n",
    "                if len( word ) > 1:\n",
    "                    l.append(word)\n",
    "    return l\n",
    "#cut_udf = py_udf(lambda w: [ i for i in jieba.cut(w) if i not in stopWord_set], types.ArrayType(types.StringType()) )\n",
    "cut_udf = fn.udf( cut_stopWord, types.ArrayType(types.StringType()) )\n",
    "#\n",
    "# 讀取資料並 repartition\n",
    "wiki_df = ss.read.csv( path = \"hdfs://192.168.1.53:9000/corpus/temp/temp_wiki_20180821\",\n",
    "                       sep = \"\\t\" )\n",
    "wiki_df = wiki_df.toDF( \"ID\", \"url\", \"Title\", \"text\" )\n",
    "wiki_df = wiki_df.repartition(120)\n",
    "# 開始斷詞\n",
    "wiki_df_cut = wiki_df.select( 'ID', 'url', 'Title', 'text', cut_udf('text').alias('words') )\n",
    "#\n"
   ]
  },
  {
   "cell_type": "markdown",
   "metadata": {},
   "source": [
    "### 資料存檔與讀取( array_string_transform )"
   ]
  },
  {
   "cell_type": "code",
   "execution_count": null,
   "metadata": {
    "collapsed": true
   },
   "outputs": [],
   "source": [
    "# 設定 array to string 的 function\n",
    "def array_to_string(array_col):\n",
    "    return ','.join([str(elem) for elem in array_col])\n",
    "\n",
    "array_to_string_udf = fn.udf(array_to_string, types.StringType())\n",
    "\n",
    "wiki_df_cut = wiki_df_cut.withColumn('column_as_str', array_to_string_udf(wiki_df_cut[\"words\"]))\n",
    "wiki_df_cut.drop(\"words\").write.csv( path = \"hdfsw192.168.1.53:9000/corpus/temp/wiki_cut_20180909\",\n",
    "                                     mode = \"overwrite\",\n",
    "                                     sep = \"\\t\",\n",
    "                                     compression = \"gzip\" )\n",
    "#\n",
    "# 讀檔，並將 string to array\n",
    "wiki_df_cut = ss.read.csv( path = \"hdfs://192.168.1.53:9000/corpus/temp/wiki_cut_20180909\",\n",
    "                           sep = \"\\t\" )\n",
    "wiki_df_cut = wiki_df_cut.toDF( 'ID', 'url', 'Title', 'text', 'column_as_str')\n",
    "wiki_df_cut = wiki_df_cut.withColumn( \"words\", fn.split( fn.col(\"column_as_str\"), \",\" ).cast(\"array<string>\") )\n",
    "\n",
    "ss.stop()"
   ]
  }
 ],
 "metadata": {
  "anaconda-cloud": {},
  "kernelspec": {
   "display_name": "Python [default]",
   "language": "python",
   "name": "python3"
  },
  "language_info": {
   "codemirror_mode": {
    "name": "ipython",
    "version": 3
   },
   "file_extension": ".py",
   "mimetype": "text/x-python",
   "name": "python",
   "nbconvert_exporter": "python",
   "pygments_lexer": "ipython3",
   "version": "3.5.2"
  }
 },
 "nbformat": 4,
 "nbformat_minor": 1
}
