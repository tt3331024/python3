{
 "cells": [
  {
   "cell_type": "markdown",
   "metadata": {},
   "source": [
    "### pySpark array, csv, vector 型態轉換"
   ]
  },
  {
   "cell_type": "code",
   "execution_count": 1,
   "metadata": {},
   "outputs": [],
   "source": [
    "# 設定spark session 環境變數 spark home\n",
    "# 詳細 ?findspark.init\n",
    "import findspark\n",
    "findspark.init('/usr/local/spark')\n",
    "# 載入必要module\n",
    "from pyspark.sql import SparkSession\n",
    "import pyspark.sql.functions as fn\n",
    "from pyspark.sql import types, Row\n",
    "from pyspark.ml.linalg import Vectors"
   ]
  },
  {
   "cell_type": "markdown",
   "metadata": {},
   "source": [
    "### array to other"
   ]
  },
  {
   "cell_type": "code",
   "execution_count": 2,
   "metadata": {},
   "outputs": [
    {
     "name": "stdout",
     "output_type": "stream",
     "text": [
      "+--------+------------------+\n",
      "|    city|        temp_array|\n",
      "+--------+------------------+\n",
      "| Chicago|[-1.0, -2.0, -3.0]|\n",
      "|New York|[-7.0, -7.0, -5.0]|\n",
      "+--------+------------------+\n",
      "\n"
     ]
    }
   ],
   "source": [
    "source_data = [\n",
    "    Row(city=\"Chicago\", temp_array=[-1.0, -2.0, -3.0]),\n",
    "    Row(city=\"New York\", temp_array=[-7.0, -7.0, -5.0]), \n",
    "]\n",
    "df_array = ss.createDataFrame(source_data)\n",
    "df_array.show()"
   ]
  },
  {
   "cell_type": "code",
   "execution_count": 3,
   "metadata": {},
   "outputs": [
    {
     "name": "stdout",
     "output_type": "stream",
     "text": [
      "root\n",
      " |-- city: string (nullable = true)\n",
      " |-- temp_vector: vector (nullable = true)\n",
      "\n"
     ]
    }
   ],
   "source": [
    "# array to vector\n",
    "city_rdd = df_array.rdd.map(lambda row:row[0])\n",
    "temp_rdd = df_array.rdd.map(lambda row:row[1])\n",
    "new_df = city_rdd.zip(temp_rdd.map(lambda x:Vectors.dense(x))).toDF(schema=['city','temp_vector'])\n",
    "# new_df = df_array.rdd.map(lambda row: (row['city'], Vectors.dense(row['temp_array'])))\n",
    "#                  .toDF(schema = ['city', 'temp_vector'])\n",
    "new_df.printSchema()"
   ]
  },
  {
   "cell_type": "code",
   "execution_count": 4,
   "metadata": {},
   "outputs": [],
   "source": [
    "# array to csv\n",
    "new_df = df_array.rdd.map(lambda row: (row['city'], ) + tuple(row['temp_array'])).toDF(['city'])"
   ]
  },
  {
   "cell_type": "code",
   "execution_count": 5,
   "metadata": {},
   "outputs": [
    {
     "name": "stdout",
     "output_type": "stream",
     "text": [
      "root\n",
      " |-- city: string (nullable = true)\n",
      " |-- _2: double (nullable = true)\n",
      " |-- _3: double (nullable = true)\n",
      " |-- _4: double (nullable = true)\n",
      "\n"
     ]
    }
   ],
   "source": [
    "new_df.printSchema()"
   ]
  },
  {
   "cell_type": "markdown",
   "metadata": {},
   "source": [
    "### vector to orther"
   ]
  },
  {
   "cell_type": "code",
   "execution_count": 6,
   "metadata": {},
   "outputs": [
    {
     "name": "stdout",
     "output_type": "stream",
     "text": [
      "+--------+----------------+\n",
      "|    city|     temp_vector|\n",
      "+--------+----------------+\n",
      "| Chicago| [1.0,-2.0,-3.0]|\n",
      "|New York|[-7.0,-7.0,-5.0]|\n",
      "+--------+----------------+\n",
      "\n"
     ]
    }
   ],
   "source": [
    "source_data = [\n",
    "    Row(city=\"Chicago\", temp_vector=Vectors.dense([1.0, -2.0, -3.0])),\n",
    "    Row(city=\"New York\", temp_vector=Vectors.dense([-7.0, -7.0, -5.0])), \n",
    "]\n",
    "df_vector = ss.createDataFrame(source_data)\n",
    "df_vector.show()"
   ]
  },
  {
   "cell_type": "code",
   "execution_count": 7,
   "metadata": {},
   "outputs": [
    {
     "name": "stdout",
     "output_type": "stream",
     "text": [
      "root\n",
      " |-- city: string (nullable = true)\n",
      " |-- temp_array: array (nullable = true)\n",
      " |    |-- element: double (containsNull = true)\n",
      "\n"
     ]
    }
   ],
   "source": [
    "# vector to array\n",
    "city_rdd = df_vector.rdd.map(lambda row:row[0])\n",
    "temp_rdd = df_vector.rdd.map(lambda row:row[1])\n",
    "new_df = city_rdd.zip(temp_rdd.map(lambda x: x.toArray().tolist() )).toDF(schema=['city','temp_array'])\n",
    "new_df.printSchema()"
   ]
  },
  {
   "cell_type": "code",
   "execution_count": 8,
   "metadata": {},
   "outputs": [
    {
     "name": "stdout",
     "output_type": "stream",
     "text": [
      "root\n",
      " |-- city: string (nullable = true)\n",
      " |-- _2: double (nullable = true)\n",
      " |-- _3: double (nullable = true)\n",
      " |-- _4: double (nullable = true)\n",
      "\n"
     ]
    }
   ],
   "source": [
    "# vector to csv\n",
    "new_df = df_vector.rdd.map(lambda row: (row['city'], ) + tuple(row['temp_vector'].toArray().tolist())).toDF(['city'])\n",
    "new_df.printSchema()"
   ]
  },
  {
   "cell_type": "code",
   "execution_count": 9,
   "metadata": {},
   "outputs": [],
   "source": [
    "ss.stop()"
   ]
  },
  {
   "cell_type": "code",
   "execution_count": null,
   "metadata": {},
   "outputs": [],
   "source": []
  }
 ],
 "metadata": {
  "kernelspec": {
   "display_name": "Python 3",
   "language": "python",
   "name": "python3"
  },
  "language_info": {
   "codemirror_mode": {
    "name": "ipython",
    "version": 3
   },
   "file_extension": ".py",
   "mimetype": "text/x-python",
   "name": "python",
   "nbconvert_exporter": "python",
   "pygments_lexer": "ipython3",
   "version": "3.6.6"
  }
 },
 "nbformat": 4,
 "nbformat_minor": 2
}
