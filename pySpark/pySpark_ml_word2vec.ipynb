{
 "cells": [
  {
   "cell_type": "markdown",
   "metadata": {},
   "source": [
    "### pySpark ml word2vec"
   ]
  },
  {
   "cell_type": "markdown",
   "metadata": {},
   "source": [
    "本篇是使用 pyspark 進行 word2vec 進行訓練。可以學到\n",
    "\n",
    "* pyspark word2vec 的建模方式。\n",
    "* 將 vector 轉為 csv 的儲存方式。"
   ]
  },
  {
   "cell_type": "code",
   "execution_count": 1,
   "metadata": {
    "collapsed": true
   },
   "outputs": [],
   "source": [
    "# 設定spark session 環境變數 spark home\n",
    "# 詳細 ?findspark.init\n",
    "import findspark\n",
    "findspark.init('/usr/local/spark')\n",
    "# 載入必要modules/\n",
    "from pyspark.sql import SparkSession\n",
    "from pyspark.sql import functions as fn\n",
    "from pyspark.ml.feature import Word2Vec, Word2VecModel"
   ]
  },
  {
   "cell_type": "code",
   "execution_count": 2,
   "metadata": {
    "collapsed": true
   },
   "outputs": [],
   "source": [
    "hdfs_path = \"hdfs://HDFS_IP:PORT\"\n",
    "\n",
    "# 開啟 spark session\n",
    "# pyspark session 目前需要手動設定使用到的參數\n",
    "# spark.executor.memory worker 計算/cache相關記憶體大小\n",
    "# spark.driver.memory 與 driver 相關的記憶體大小影響task分派，對演算速度影響大\n",
    "# spark.driver.maxResultSize 設定分散資料collect回本地端的大小上限，SparkR有更改設定檔無限制，此處須設置。\n",
    "ss = SparkSession.builder \\\n",
    "    .master( \"spark://MASTER_IP:PORT\" ) \\\n",
    "    .appName( \"word_to_vector\" ) \\\n",
    "    .config( \"spark.cores.max\", \"8\" ) \\\n",
    "    .config( \"spark.executor.memory\", \"32g\" ) \\\n",
    "    .config( \"spark.driver.memory\", \"24g\" ) \\\n",
    "    .config( \"spark.driver.maxResultSize\", \"16g\" ) \\\n",
    "    .config( \"spark.rpc.message.maxSize\", \"512\") \\\n",
    "    .getOrCreate() "
   ]
  },
  {
   "cell_type": "code",
   "execution_count": 3,
   "metadata": {
    "collapsed": true
   },
   "outputs": [],
   "source": [
    "# 讀取 parquet 資料源\n",
    "corpus = ss.read.parquet( hdfs_path + \"/corpus/external/cut/*\" )"
   ]
  },
  {
   "cell_type": "code",
   "execution_count": 4,
   "metadata": {
    "collapsed": true
   },
   "outputs": [],
   "source": [
    "# 設定 word2vec 參數，並進行訓練和儲存模型\n",
    "# numPartitions 使用和 core 數相同，maxIter 數官方文件建議須小於等於 partition 數\n",
    "# maxSentenceLength 設定為 8000，我們 corpus 的長度都超過 1000，預設數值明顯不符合需求。需要確認文章長度平均值及測試。\n",
    "word2Vec = Word2Vec( vectorSize = 240, \n",
    "                     inputCol = \"words\", \n",
    "                     outputCol = \"word2vec\",\n",
    "                     windowSize = 6,\n",
    "                     numPartitions = 8,\n",
    "                     stepSize = 0.05, \n",
    "                     maxIter = 8,\n",
    "                     maxSentenceLength = 8000 )\n",
    "w2v_model = word2Vec.fit( corpus )\n",
    "w2v_model.write().overwrite().save( hdfs_path + \"/corpus/ml/WordToVector_model\" )"
   ]
  },
  {
   "cell_type": "code",
   "execution_count": 3,
   "metadata": {
    "collapsed": true
   },
   "outputs": [],
   "source": [
    "# 讀取模型\n",
    "w2v_model = Word2VecModel.load( hdfs_path + \"/corpus/ml/WordToVector_model\" )"
   ]
  },
  {
   "cell_type": "code",
   "execution_count": 4,
   "metadata": {
    "collapsed": true
   },
   "outputs": [],
   "source": [
    "# 取出 word embedding 另外儲存，供後續 sparkR 分析使用\n",
    "w2v_vectors = w2v_model.getVectors()\n",
    "w2v_vectors = w2v_vectors.rdd.map( lambda row: ( row[\"word\"], ) + tuple( row[\"vector\"].toArray().tolist() ) )\\\n",
    "                         .toDF( [\"word\"] )\n",
    "w2v_vectors.write.parquet( path = hdfs_path + \"/corpus/ml/WordToVector_embedding\", \n",
    "                           mode = \"overwrite\",\n",
    "                           compression = \"gzip\" )"
   ]
  },
  {
   "cell_type": "code",
   "execution_count": 45,
   "metadata": {
    "collapsed": false
   },
   "outputs": [
    {
     "name": "stdout",
     "output_type": "stream",
     "text": [
      "+-----------+------------------+\n",
      "|       word|        similarity|\n",
      "+-----------+------------------+\n",
      "|   nintendo|0.7870251536369324|\n",
      "|        wii|0.7406870722770691|\n",
      "|        3ds|0.7273473143577576|\n",
      "|        任天堂|0.7169155478477478|\n",
      "|       xbox| 0.696182906627655|\n",
      "|        nds|0.6801103949546814|\n",
      "|playstation|0.6680821776390076|\n",
      "|   gamecube| 0.667585551738739|\n",
      "|    console|0.6661582589149475|\n",
      "|         主機|0.6646143794059753|\n",
      "+-----------+------------------+\n",
      "\n"
     ]
    }
   ],
   "source": [
    "# 嘗試 word2vec 訓練成效\n",
    "w2v_model.findSynonyms(\"switch\", 10).show()"
   ]
  },
  {
   "cell_type": "code",
   "execution_count": 46,
   "metadata": {
    "collapsed": true
   },
   "outputs": [],
   "source": [
    "ss.stop()"
   ]
  },
  {
   "cell_type": "code",
   "execution_count": null,
   "metadata": {
    "collapsed": true
   },
   "outputs": [],
   "source": []
  }
 ],
 "metadata": {
  "anaconda-cloud": {},
  "kernelspec": {
   "display_name": "Python [default]",
   "language": "python",
   "name": "python3"
  },
  "language_info": {
   "codemirror_mode": {
    "name": "ipython",
    "version": 3
   },
   "file_extension": ".py",
   "mimetype": "text/x-python",
   "name": "python",
   "nbconvert_exporter": "python",
   "pygments_lexer": "ipython3",
   "version": "3.5.6"
  }
 },
 "nbformat": 4,
 "nbformat_minor": 2
}
