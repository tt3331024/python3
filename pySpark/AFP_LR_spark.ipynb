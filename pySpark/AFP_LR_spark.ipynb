{
 "cells": [
  {
   "cell_type": "markdown",
   "metadata": {},
   "source": [
    "## pyspark LR"
   ]
  },
  {
   "cell_type": "markdown",
   "metadata": {},
   "source": [
    "本篇 jupyter 是在對廣告 log 進行分析。可以學到\n",
    "* pyspark logistic regreesion(LASSO, ridge)建模方式。\n",
    "* pipeline 形式的 data transform 方法。"
   ]
  },
  {
   "cell_type": "code",
   "execution_count": 3,
   "metadata": {
    "collapsed": true
   },
   "outputs": [],
   "source": [
    "import pandas as pd\n",
    "import numpy as np\n",
    "import matplotlib.pyplot as plt\n",
    "from sklearn.metrics import roc_curve, auc, confusion_matrix, f1_score, accuracy_score\n",
    "from sklearn.model_selection import train_test_split"
   ]
  },
  {
   "cell_type": "code",
   "execution_count": 11,
   "metadata": {
    "collapsed": true
   },
   "outputs": [],
   "source": [
    "import findspark\n",
    "findspark.init('/usr/local/spark')\n",
    "from pyspark.sql import SparkSession\n",
    "spark_url = \"mesos://zk://MESOS_IP:PORT\"\n",
    "hdfs_path = \"hdfs://HDFS_ID:PORT\"\n",
    "coresMax = \"24\"\n",
    "executorMem = \"64g\"\n",
    "appName = \"logistic regression\"\n",
    "\n",
    "ss = SparkSession.builder \\\n",
    "    .master( spark_url ) \\\n",
    "    .appName( appName ) \\\n",
    "    .config( \"spark.cores.max\", coresMax ) \\\n",
    "    .config( \"spark.executor.memory\", executorMem ) \\\n",
    "    .config( \"spark.driver.memory\", \"24g\" ) \\\n",
    "    .config( \"spark.driver.maxResultSize\", \"24g\" ) \\\n",
    "    .config( \"spark.rpc.message.maxSize\", \"512\") \\\n",
    "    .getOrCreate() "
   ]
  },
  {
   "cell_type": "code",
   "execution_count": 350,
   "metadata": {
    "collapsed": true
   },
   "outputs": [],
   "source": [
    "from pyspark.sql import functions as fn\n",
    "from pyspark.sql.types import *\n",
    "from pyspark.ml import Pipeline, PipelineModel\n",
    "from pyspark.ml.feature import StringIndexer, OneHotEncoderEstimator, VectorAssembler, StandardScaler\n",
    "from pyspark.ml.classification import LogisticRegression, LogisticRegressionModel"
   ]
  },
  {
   "cell_type": "markdown",
   "metadata": {},
   "source": [
    "### data loading and preprocess"
   ]
  },
  {
   "cell_type": "code",
   "execution_count": 4,
   "metadata": {
    "collapsed": true
   },
   "outputs": [],
   "source": [
    "data_path = \"HDFS_DATA_PATH\"\n",
    "model_path = \"HDFS_MODEL_PATH\""
   ]
  },
  {
   "cell_type": "code",
   "execution_count": 138,
   "metadata": {
    "collapsed": true
   },
   "outputs": [],
   "source": [
    "afp_201903 = ss.read.csv(hdfs_path + data_path + \"adlog/201903*/\", header=True, sep=\"\\t\")\n",
    "col = ss.read.csv(hdfs_path + data_path + \"Table_Names/col_adlog\")\n",
    "afp_201903 = afp_201903.toDF(*np.squeeze(col.toPandas().values.tolist())[:42])"
   ]
  },
  {
   "cell_type": "code",
   "execution_count": 139,
   "metadata": {
    "collapsed": true
   },
   "outputs": [],
   "source": [
    "# label 整理\n",
    "afp_201903 = afp_201903.withColumn(\"label\", fn.when(fn.isnull(\"clickTime\"), 0).otherwise(1))\n",
    "\n",
    "# 時間格式整理\n",
    "afp_201903 = afp_201903.withColumn(\"exposureTime\", fn.from_unixtime(\"exposureTime\"))\n",
    "afp_201903 = afp_201903.withColumn(\"month\", fn.month(\"exposureTime\"))\n",
    "afp_201903 = afp_201903.withColumn(\"date\", fn.dayofmonth(\"exposureTime\"))\n",
    "afp_201903 = afp_201903.withColumn(\"weekday\", fn.date_format(\"exposureTime\", 'E'))\n",
    "afp_201903 = afp_201903.withColumn(\"hour\", fn.hour('exposureTime'))\n",
    "afp_201903 = afp_201903.withColumn(\"hour_weekday\", fn.concat_ws(\"_\", \"hour\", \"weekday\"))"
   ]
  },
  {
   "cell_type": "code",
   "execution_count": 140,
   "metadata": {
    "collapsed": true
   },
   "outputs": [],
   "source": [
    "# 處理跑行的資料\n",
    "afp_201903 = afp_201903.withColumn(\n",
    "    \"city_\", fn.when(afp_201903[\"city\"].contains(\"[\"), afp_201903['country']).otherwise(afp_201903[\"city\"])\n",
    ")\n",
    "afp_201903 = afp_201903.withColumn(\n",
    "    \"country_\", fn.when(afp_201903[\"city\"].contains(\"[\"), afp_201903['OS']).otherwise(afp_201903[\"country\"])\n",
    ")\n",
    "afp_201903 = afp_201903.withColumn(\n",
    "    \"OS_\", fn.when(afp_201903[\"city\"].contains(\"[\"), afp_201903['browser']).otherwise(afp_201903[\"OS\"])\n",
    ")\n",
    "afp_201903 = afp_201903.withColumn(\n",
    "    \"browser_\", fn.when(afp_201903[\"city\"].contains(\"[\"), afp_201903['event']).otherwise(afp_201903[\"browser\"])\n",
    ")"
   ]
  },
  {
   "cell_type": "code",
   "execution_count": 141,
   "metadata": {
    "collapsed": true
   },
   "outputs": [],
   "source": [
    "# 處理城市資訊\n",
    "afp_201903 = afp_201903.withColumn(\n",
    "    \"city_\", fn.when(afp_201903[\"country_\"].contains(\"Taiwan\"), afp_201903['city_']).otherwise(\"foreign\")\n",
    ")"
   ]
  },
  {
   "cell_type": "code",
   "execution_count": 142,
   "metadata": {
    "collapsed": true
   },
   "outputs": [],
   "source": [
    "# catagory columns\n",
    "cate_cols = [\"appId\", \"clientId\", \"slotId\", \"campaignId\", \"materialId\",\n",
    "             \"browser_\", \"OS_\", \"city_\", \"hour\", \"weekday\", \n",
    "             \"hour_weekday\",]"
   ]
  },
  {
   "cell_type": "code",
   "execution_count": 10,
   "metadata": {
    "collapsed": true
   },
   "outputs": [],
   "source": [
    "# string to index 一次只能吃一個欄位，要使用 for 迴圈 new 好所有的 column，並包在 list 裏。\n",
    "indexers = [StringIndexer(\n",
    "    inputCol=column, \n",
    "    outputCol=column+\"_id\", \n",
    "    handleInvalid=\"skip\", \n",
    "    stringOrderType=\"alphabetAsc\"\n",
    ") for column in cate_cols]\n",
    "\n",
    "# one hot encoder 就可以以 column list 的形式執行。\n",
    "encoder = OneHotEncoderEstimator(\n",
    "    inputCols=[indexer.getOutputCol() for indexer in indexers],\n",
    "    outputCols=[\"{}_encoded\".format(indexer.getOutputCol()) for indexer in indexers],\n",
    "    handleInvalid=\"keep\",\n",
    "    dropLast=True\n",
    ")\n",
    "# 最後將 one hot encoding 的多個稀疏欄位轉為 pyspark ml 可以吃的 vector type\n",
    "cate_assembler = VectorAssembler(\n",
    "    inputCols=encoder.getOutputCols(),\n",
    "    outputCol=\"features\"\n",
    ")\n",
    "\n",
    "# 標準化(由於沒有 continue feature, 所以不用標準化)\n",
    "# scaler = StandardScaler().setInputCol(\"features\").setOutputCol(\"features_std\")"
   ]
  },
  {
   "cell_type": "code",
   "execution_count": 11,
   "metadata": {
    "collapsed": true
   },
   "outputs": [],
   "source": [
    "# indexers 是 list type 所以要用 + 來和後面的 list 連接\n",
    "data_type_transform = Pipeline(stages=indexers + [encoder, cate_assembler,])\n",
    "data_type_transform_model = data_type_transform.fit(afp_201903)\n",
    "data_type_transform_model.write().overwrite().save(hdfs_path + model_path + \"/afp_pipeline\")\n",
    "afp_fin = data_type_transform_model.transform(afp_201903)"
   ]
  },
  {
   "cell_type": "code",
   "execution_count": 12,
   "metadata": {
    "collapsed": true
   },
   "outputs": [],
   "source": [
    "afp_fin.write.parquet(hdfs_path + data_path + \"data\", mode=\"overwrite\")"
   ]
  },
  {
   "cell_type": "code",
   "execution_count": 143,
   "metadata": {
    "collapsed": true
   },
   "outputs": [],
   "source": [
    "ss.stop()"
   ]
  },
  {
   "cell_type": "markdown",
   "metadata": {},
   "source": [
    "### data training"
   ]
  },
  {
   "cell_type": "code",
   "execution_count": 144,
   "metadata": {
    "collapsed": true
   },
   "outputs": [],
   "source": [
    "ss = SparkSession.builder \\\n",
    "    .master( spark_url ) \\\n",
    "    .appName( appName ) \\\n",
    "    .config( \"spark.cores.max\", coresMax ) \\\n",
    "    .config( \"spark.executor.memory\", executorMem ) \\\n",
    "    .config( \"spark.driver.memory\", \"24g\" ) \\\n",
    "    .config( \"spark.driver.maxResultSize\", \"24g\" ) \\\n",
    "    .config( \"spark.rpc.message.maxSize\", \"512\") \\\n",
    "    .getOrCreate()"
   ]
  },
  {
   "cell_type": "code",
   "execution_count": 145,
   "metadata": {
    "collapsed": true
   },
   "outputs": [],
   "source": [
    "afp_fin = ss.read.parquet(hdfs_path + data_path + \"data\")"
   ]
  },
  {
   "cell_type": "code",
   "execution_count": 16,
   "metadata": {
    "collapsed": false
   },
   "outputs": [
    {
     "name": "stdout",
     "output_type": "stream",
     "text": [
      "balancing ratio = 0.0022593539233948844\n"
     ]
    }
   ],
   "source": [
    "# 資料平衡：使用 weights 來平衡 click(不是 undersample)\n",
    "label_count = afp_fin.groupBy(\"label\").count().collect()\n",
    "BalancingRatio = label_count[0][1] / (label_count[0][1]+label_count[1][1])\n",
    "afp_fin = afp_fin.withColumn(\n",
    "    \"Weights_col\", \n",
    "    fn.when(afp_fin['label'] == 0, BalancingRatio).otherwise(1-BalancingRatio)\n",
    ")   \n",
    "print(\"balancing ratio = \" + str(BalancingRatio))"
   ]
  },
  {
   "cell_type": "code",
   "execution_count": 20,
   "metadata": {
    "collapsed": true
   },
   "outputs": [],
   "source": [
    "lr = LogisticRegression(featuresCol=\"features\", \n",
    "                        labelCol=\"label\",\n",
    "                        weightCol=\"Weights_col\",\n",
    "                        regParam=0.05, \n",
    "                        elasticNetParam=1, \n",
    "                        family='binomial')\n",
    "lr_model = lr.fit(afp_fin)\n",
    "lr_model.write().overwrite().save(hdfs_path + model_path + \"/afp_lr\")"
   ]
  },
  {
   "cell_type": "markdown",
   "metadata": {},
   "source": [
    "### data test"
   ]
  },
  {
   "cell_type": "code",
   "execution_count": 67,
   "metadata": {
    "collapsed": true
   },
   "outputs": [],
   "source": [
    "afp_test = ss.read.csv(hdfs_path + data_path + \"/adlog/2019040*/\", header=True, sep=\"\\t\")\n",
    "col = ss.read.csv(hdfs_path + data_path + \"Table_Names/col_adlog\")\n",
    "afp_test = afp_test.toDF(*np.squeeze(col.toPandas().values.tolist())[:42])"
   ]
  },
  {
   "cell_type": "code",
   "execution_count": 68,
   "metadata": {
    "collapsed": true
   },
   "outputs": [],
   "source": [
    "# label 整理\n",
    "afp_test = afp_test.withColumn(\"label\", fn.when(fn.isnull(\"clickTime\"), 0).otherwise(1))\n",
    "\n",
    "# 時間格式整理\n",
    "afp_test = afp_test.withColumn(\"exposureTime\", fn.from_unixtime(\"exposureTime\"))\n",
    "afp_test = afp_test.withColumn(\"month\", fn.month(\"exposureTime\"))\n",
    "afp_test = afp_test.withColumn(\"date\", fn.dayofmonth(\"exposureTime\"))\n",
    "afp_test = afp_test.withColumn(\"weekday\", fn.date_format(\"exposureTime\", 'E'))\n",
    "afp_test = afp_test.withColumn(\"hour\", fn.hour('exposureTime'))\n",
    "afp_test = afp_test.withColumn(\"hour_weekday\", fn.concat_ws(\"_\", \"hour\", \"weekday\"))\n",
    "\n",
    "# 處理跑行的資料\n",
    "afp_test = afp_test.withColumn(\n",
    "    \"city_\", fn.when(afp_test[\"city\"].contains(\"[\"), afp_test['country']).otherwise(afp_test[\"city\"])\n",
    ")\n",
    "afp_test = afp_test.withColumn(\n",
    "    \"country_\", fn.when(afp_test[\"city\"].contains(\"[\"), afp_test['OS']).otherwise(afp_test[\"country\"])\n",
    ")\n",
    "afp_test = afp_test.withColumn(\n",
    "    \"OS_\", fn.when(afp_test[\"city\"].contains(\"[\"), afp_test['browser']).otherwise(afp_test[\"OS\"])\n",
    ")\n",
    "afp_test = afp_test.withColumn(\n",
    "    \"browser_\", fn.when(afp_test[\"city\"].contains(\"[\"), afp_test['event']).otherwise(afp_test[\"browser\"])\n",
    ")\n",
    "\n",
    "# 處理城市資訊\n",
    "afp_test = afp_test.withColumn(\n",
    "    \"city_\", fn.when(afp_test[\"country_\"].contains(\"Taiwan\"), afp_test['city_']).otherwise(\"foreign\")\n",
    ")"
   ]
  },
  {
   "cell_type": "code",
   "execution_count": 69,
   "metadata": {
    "collapsed": true
   },
   "outputs": [],
   "source": [
    "data_type_transform_model = PipelineModel.load(\n",
    "    hdfs_path + model_path + \"/afp_pipeline\"\n",
    ")\n",
    "afp_fin = data_type_transform_model.transform(afp_test)"
   ]
  },
  {
   "cell_type": "code",
   "execution_count": 70,
   "metadata": {
    "collapsed": false
   },
   "outputs": [
    {
     "name": "stdout",
     "output_type": "stream",
     "text": [
      "original data count =   7579814\n",
      "preprocess data count = 3233033\n"
     ]
    }
   ],
   "source": [
    "# 因新增的委刊單或是 publisher 而沒進行 data transform 的資料\n",
    "print(\"original data count   = {}\".format(afp_test.count()))\n",
    "print(\"preprocess data count = {}\".format(afp_fin.count()))"
   ]
  },
  {
   "cell_type": "code",
   "execution_count": 82,
   "metadata": {
    "collapsed": false
   },
   "outputs": [
    {
     "name": "stdout",
     "output_type": "stream",
     "text": [
      "lost 57.35% data\n"
     ]
    }
   ],
   "source": [
    "# 未進行到 preprocess 的資料比例\n",
    "print(\"lost {}% data\".format(round(((7579814-3233033) / 7579814 * 100), 2)))"
   ]
  },
  {
   "cell_type": "code",
   "execution_count": 83,
   "metadata": {
    "collapsed": true
   },
   "outputs": [],
   "source": [
    "lr_model = LogisticRegressionModel.load(hdfs_path + model_path + \"/afp_lr\")\n",
    "lr_pred = lr_model.transform(afp_fin)"
   ]
  },
  {
   "cell_type": "code",
   "execution_count": 161,
   "metadata": {
    "collapsed": true
   },
   "outputs": [],
   "source": [
    "# 篩選日期，1號、5號、9號各做一次\n",
    "pred_PDF = lr_pred.where(\"date == 1\").select(\"probability\", \"prediction\", \"label\").toPandas()"
   ]
  },
  {
   "cell_type": "code",
   "execution_count": 162,
   "metadata": {
    "collapsed": true
   },
   "outputs": [],
   "source": [
    "acc = accuracy_score(pred_PDF['label'], pred_PDF['prediction'])\n",
    "f1 = f1_score(pred_PDF['label'], pred_PDF['prediction'])\n",
    "cm = confusion_matrix(pred_PDF['label'], pred_PDF['prediction'])\n",
    "pred_PDF['pos'] = pred_PDF['probability'].apply(lambda x: x.toArray().tolist()[1])\n",
    "fpr, tpr, _ = roc_curve(pred_PDF['label'], pred_PDF['pos'])\n",
    "roc_auc = auc(fpr, tpr)"
   ]
  },
  {
   "cell_type": "code",
   "execution_count": null,
   "metadata": {
    "collapsed": true
   },
   "outputs": [],
   "source": [
    "# 0401 的測試結果"
   ]
  },
  {
   "cell_type": "code",
   "execution_count": 99,
   "metadata": {
    "collapsed": false
   },
   "outputs": [
    {
     "name": "stdout",
     "output_type": "stream",
     "text": [
      "accuracy is 0.8786104005234584\n"
     ]
    },
    {
     "data": {
      "text/plain": [
       "array([[515768,  71383],\n",
       "       [   413,   3887]])"
      ]
     },
     "execution_count": 99,
     "metadata": {},
     "output_type": "execute_result"
    }
   ],
   "source": [
    "print(\"accuracy is {}\".format(acc))\n",
    "cm"
   ]
  },
  {
   "cell_type": "code",
   "execution_count": 100,
   "metadata": {
    "collapsed": false
   },
   "outputs": [
    {
     "name": "stdout",
     "output_type": "stream",
     "text": [
      "f1 score is 0.09770013824305643\n"
     ]
    }
   ],
   "source": [
    "print(\"f1 score is {}\".format(f1))"
   ]
  },
  {
   "cell_type": "code",
   "execution_count": 101,
   "metadata": {
    "collapsed": false
   },
   "outputs": [
    {
     "data": {
      "image/png": "[encoded data removed]",
      "text/plain": [
       "<Figure size 432x288 with 1 Axes>"
      ]
     },
     "metadata": {},
     "output_type": "display_data"
    }
   ],
   "source": [
    "plt.plot(fpr, tpr, label='ROC curve(auc={:.3f})'.format(roc_auc))\n",
    "plt.plot([0, 1], [0, 1], color='navy', lw=2, linestyle='--')\n",
    "plt.legend(loc=\"lower right\")\n",
    "plt.show()"
   ]
  },
  {
   "cell_type": "code",
   "execution_count": null,
   "metadata": {
    "collapsed": true
   },
   "outputs": [],
   "source": [
    "# 0405 的測試結果"
   ]
  },
  {
   "cell_type": "code",
   "execution_count": 121,
   "metadata": {
    "collapsed": false
   },
   "outputs": [
    {
     "name": "stdout",
     "output_type": "stream",
     "text": [
      "accuracy is 0.8441641333655195\n"
     ]
    },
    {
     "data": {
      "text/plain": [
       "array([[204363,  37820],\n",
       "       [   268,   1960]])"
      ]
     },
     "execution_count": 121,
     "metadata": {},
     "output_type": "execute_result"
    }
   ],
   "source": [
    "print(\"accuracy is {}\".format(acc))\n",
    "cm"
   ]
  },
  {
   "cell_type": "code",
   "execution_count": 122,
   "metadata": {
    "collapsed": false
   },
   "outputs": [
    {
     "name": "stdout",
     "output_type": "stream",
     "text": [
      "f1 score is 0.09331555894115406\n"
     ]
    }
   ],
   "source": [
    "print(\"f1 score is {}\".format(f1))"
   ]
  },
  {
   "cell_type": "code",
   "execution_count": 123,
   "metadata": {
    "collapsed": false
   },
   "outputs": [
    {
     "data": {
      "image/png": "[encoded data removed]",
      "text/plain": [
       "<Figure size 432x288 with 1 Axes>"
      ]
     },
     "metadata": {},
     "output_type": "display_data"
    }
   ],
   "source": [
    "plt.plot(fpr, tpr, label='ROC curve(auc={:.3f})'.format(roc_auc))\n",
    "plt.plot([0, 1], [0, 1], color='navy', lw=2, linestyle='--')\n",
    "plt.legend(loc=\"lower right\")\n",
    "plt.show()"
   ]
  },
  {
   "cell_type": "code",
   "execution_count": null,
   "metadata": {
    "collapsed": true
   },
   "outputs": [],
   "source": [
    "# 0409 的測試結果"
   ]
  },
  {
   "cell_type": "code",
   "execution_count": 126,
   "metadata": {
    "collapsed": false
   },
   "outputs": [
    {
     "name": "stdout",
     "output_type": "stream",
     "text": [
      "accuracy is 0.7511996860836414\n"
     ]
    },
    {
     "data": {
      "text/plain": [
       "array([[205205,  68939],\n",
       "       [   173,   3464]])"
      ]
     },
     "execution_count": 126,
     "metadata": {},
     "output_type": "execute_result"
    }
   ],
   "source": [
    "print(\"accuracy is {}\".format(acc))\n",
    "cm"
   ]
  },
  {
   "cell_type": "code",
   "execution_count": 127,
   "metadata": {
    "collapsed": false
   },
   "outputs": [
    {
     "name": "stdout",
     "output_type": "stream",
     "text": [
      "f1 score is 0.09110994213571805\n"
     ]
    }
   ],
   "source": [
    "print(\"f1 score is {}\".format(f1))"
   ]
  },
  {
   "cell_type": "code",
   "execution_count": 128,
   "metadata": {
    "collapsed": false
   },
   "outputs": [
    {
     "data": {
      "image/png": "[encoded data removed]",
      "text/plain": [
       "<Figure size 432x288 with 1 Axes>"
      ]
     },
     "metadata": {},
     "output_type": "display_data"
    }
   ],
   "source": [
    "plt.plot(fpr, tpr, label='ROC curve(auc={:.3f})'.format(roc_auc))\n",
    "plt.plot([0, 1], [0, 1], color='navy', lw=2, linestyle='--')\n",
    "plt.legend(loc=\"lower right\")\n",
    "plt.show()"
   ]
  },
  {
   "cell_type": "markdown",
   "metadata": {},
   "source": [
    "### 變項解釋"
   ]
  },
  {
   "cell_type": "code",
   "execution_count": 214,
   "metadata": {
    "collapsed": false
   },
   "outputs": [
    {
     "data": {
      "text/plain": [
       "SparseVector(633, {22: -0.0109, 23: 0.112, 49: 0.5653, 51: 0.4523, 57: 0.5512, 66: -0.1682, 67: -0.1204, 68: -0.1692, 94: -0.0109, 95: 0.112, 99: 1.3216, 122: 0.5653, 124: 0.4523, 130: 0.5512, 143: -0.1692, 144: -0.1204, 145: -0.1682, 154: 1.4011, 307: 0.2996})"
      ]
     },
     "execution_count": 214,
     "metadata": {},
     "output_type": "execute_result"
    }
   ],
   "source": [
    "lr_model.coefficients"
   ]
  },
  {
   "cell_type": "markdown",
   "metadata": {},
   "source": [
    "對`click`有影響的參數，`publisher`占8個；`client`占9個；`slot`占1個；`OS`占1個。  \n",
    "而`campaign`都沒有影響。  "
   ]
  },
  {
   "cell_type": "code",
   "execution_count": 238,
   "metadata": {
    "collapsed": false
   },
   "outputs": [
    {
     "data": {
      "text/plain": [
       "[70, 77, 11, 52, 86, 11, 13, 114, 24, 7, 168]"
      ]
     },
     "execution_count": 238,
     "metadata": {},
     "output_type": "execute_result"
    }
   ],
   "source": [
    "data_type_transform_model.stages[-2].categorySizes"
   ]
  },
  {
   "cell_type": "code",
   "execution_count": 5,
   "metadata": {
    "collapsed": false
   },
   "outputs": [
    {
     "data": {
      "text/html": [
       "<div>\n",
       "<style scoped>\n",
       "    .dataframe tbody tr th:only-of-type {\n",
       "        vertical-align: middle;\n",
       "    }\n",
       "\n",
       "    .dataframe tbody tr th {\n",
       "        vertical-align: top;\n",
       "    }\n",
       "\n",
       "    .dataframe thead th {\n",
       "        text-align: right;\n",
       "    }\n",
       "</style>\n",
       "<table border=\"1\" class=\"dataframe\">\n",
       "  <thead>\n",
       "    <tr style=\"text-align: right;\">\n",
       "      <th></th>\n",
       "      <th>col_name</th>\n",
       "      <th>index</th>\n",
       "      <th>num</th>\n",
       "    </tr>\n",
       "  </thead>\n",
       "  <tbody>\n",
       "    <tr>\n",
       "      <th>0</th>\n",
       "      <td>app</td>\n",
       "      <td>0~69</td>\n",
       "      <td>70</td>\n",
       "    </tr>\n",
       "    <tr>\n",
       "      <th>1</th>\n",
       "      <td>client</td>\n",
       "      <td>70~146</td>\n",
       "      <td>77</td>\n",
       "    </tr>\n",
       "    <tr>\n",
       "      <th>2</th>\n",
       "      <td>slot</td>\n",
       "      <td>147~157</td>\n",
       "      <td>11</td>\n",
       "    </tr>\n",
       "    <tr>\n",
       "      <th>3</th>\n",
       "      <td>campaign</td>\n",
       "      <td>158~209</td>\n",
       "      <td>52</td>\n",
       "    </tr>\n",
       "    <tr>\n",
       "      <th>4</th>\n",
       "      <td>material</td>\n",
       "      <td>210~295</td>\n",
       "      <td>86</td>\n",
       "    </tr>\n",
       "    <tr>\n",
       "      <th>5</th>\n",
       "      <td>browser</td>\n",
       "      <td>296,~306</td>\n",
       "      <td>11</td>\n",
       "    </tr>\n",
       "    <tr>\n",
       "      <th>6</th>\n",
       "      <td>OS</td>\n",
       "      <td>307~319</td>\n",
       "      <td>13</td>\n",
       "    </tr>\n",
       "    <tr>\n",
       "      <th>7</th>\n",
       "      <td>city</td>\n",
       "      <td>320~433</td>\n",
       "      <td>114</td>\n",
       "    </tr>\n",
       "    <tr>\n",
       "      <th>8</th>\n",
       "      <td>hour</td>\n",
       "      <td>434~457</td>\n",
       "      <td>24</td>\n",
       "    </tr>\n",
       "    <tr>\n",
       "      <th>9</th>\n",
       "      <td>weekday</td>\n",
       "      <td>458~464</td>\n",
       "      <td>7</td>\n",
       "    </tr>\n",
       "    <tr>\n",
       "      <th>10</th>\n",
       "      <td>hour_weekday</td>\n",
       "      <td>465~633</td>\n",
       "      <td>168</td>\n",
       "    </tr>\n",
       "  </tbody>\n",
       "</table>\n",
       "</div>"
      ],
      "text/plain": [
       "        col_name     index  num\n",
       "0            app      0~69   70\n",
       "1         client    70~146   77\n",
       "2           slot   147~157   11\n",
       "3       campaign   158~209   52\n",
       "4       material   210~295   86\n",
       "5        browser  296,~306   11\n",
       "6             OS   307~319   13\n",
       "7           city   320~433  114\n",
       "8           hour   434~457   24\n",
       "9        weekday   458~464    7\n",
       "10  hour_weekday   465~633  168"
      ]
     },
     "execution_count": 5,
     "metadata": {},
     "output_type": "execute_result"
    }
   ],
   "source": [
    "col_info = pd.DataFrame([\n",
    "    [\"app\", \"client\", \"slot\", \"campaign\", \"material\", \"browser\", \"OS\", \"city\", \"hour\", \"weekday\", \"hour_weekday\"],\n",
    "    [\"0~69\", \"70~146\", \"147~157\", \"158~209\", \"210~295\", \"296,~306\", \"307~319\", \"320~433\", \"434~457\", \"458~464\", \"465~633\"],\n",
    "    [70, 77, 11, 52, 86, 11, 13, 114, 24, 7, 168]\n",
    "]).T\n",
    "col_info.columns = ['col_name', 'index', 'num']\n",
    "col_info"
   ]
  },
  {
   "cell_type": "code",
   "execution_count": 279,
   "metadata": {
    "collapsed": true
   },
   "outputs": [],
   "source": [
    "ss.stop()"
   ]
  },
  {
   "cell_type": "code",
   "execution_count": null,
   "metadata": {
    "collapsed": true
   },
   "outputs": [],
   "source": []
  }
 ],
 "metadata": {
  "kernelspec": {
   "display_name": "Python [default]",
   "language": "python",
   "name": "python3"
  },
  "language_info": {
   "codemirror_mode": {
    "name": "ipython",
    "version": 3
   },
   "file_extension": ".py",
   "mimetype": "text/x-python",
   "name": "python",
   "nbconvert_exporter": "python",
   "pygments_lexer": "ipython3",
   "version": "3.5.6"
  }
 },
 "nbformat": 4,
 "nbformat_minor": 2
}
