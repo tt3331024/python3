{
 "cells": [
  {
   "cell_type": "code",
   "execution_count": 2,
   "metadata": {
    "collapsed": true
   },
   "outputs": [],
   "source": [
    "import pandas as pd\n",
    "import re\n",
    "import numpy as np\n",
    "\n",
    "\n",
    "# 讀取 dict 成 pandas 的 function\n",
    "re_userdict = re.compile('^(.+?)( [0-9]+)?( [a-z]+)?$', re.U)\n",
    "def get_dict(file_path):\n",
    "    '''讀取 jieba dict 成 pandas 型態的方法，使用正規表達式\n",
    "    可以正常將 dict 切成 word, freq, tag 三欄。    \n",
    "    Parameter:\n",
    "        - file_path: string. The path of jieba dictionary file.\n",
    "    return: pandas data frame\n",
    "    '''\n",
    "    f = open(file_path, 'rb')\n",
    "    dict_list = []\n",
    "    for lineno, ln in enumerate(f, 1):\n",
    "        line = ln.strip()\n",
    "        if not isinstance(line, str):\n",
    "            line = line.decode('utf-8').lstrip('\\ufeff')\n",
    "        if not line:\n",
    "            continue\n",
    "        # match won't be None because there's at least one character\n",
    "        word, freq, tag = re_userdict.match(line).groups()\n",
    "        if freq is not None:\n",
    "            freq = freq.strip()\n",
    "        if tag is not None:\n",
    "            tag = tag.strip()\n",
    "        dict_list.append([word, freq, tag])\n",
    "    return pd.DataFrame(dict_list)\n",
    "# https://segmentfault.com/q/1010000016011808"
   ]
  },
  {
   "cell_type": "code",
   "execution_count": 3,
   "metadata": {
    "collapsed": true
   },
   "outputs": [],
   "source": [
    "# 讀取 jieba 主詞典成 pandas 檔\n",
    "dict_path = \"anaconda/lib/python3.5/site-packages/jieba/dict_20181221.txt\"\n",
    "dict_pd = get_dict(dict_path)\n",
    "dict_pd.columns = [\"word\", \"freq\", \"tag\"]"
   ]
  },
  {
   "cell_type": "code",
   "execution_count": 10,
   "metadata": {
    "collapsed": false
   },
   "outputs": [
    {
     "data": {
      "text/html": [
       "<div>\n",
       "<style scoped>\n",
       "    .dataframe tbody tr th:only-of-type {\n",
       "        vertical-align: middle;\n",
       "    }\n",
       "\n",
       "    .dataframe tbody tr th {\n",
       "        vertical-align: top;\n",
       "    }\n",
       "\n",
       "    .dataframe thead th {\n",
       "        text-align: right;\n",
       "    }\n",
       "</style>\n",
       "<table border=\"1\" class=\"dataframe\">\n",
       "  <thead>\n",
       "    <tr style=\"text-align: right;\">\n",
       "      <th></th>\n",
       "      <th>0</th>\n",
       "    </tr>\n",
       "  </thead>\n",
       "  <tbody>\n",
       "    <tr>\n",
       "      <th>0</th>\n",
       "      <td>發熱衣</td>\n",
       "    </tr>\n",
       "    <tr>\n",
       "      <th>1</th>\n",
       "      <td>三花</td>\n",
       "    </tr>\n",
       "    <tr>\n",
       "      <th>2</th>\n",
       "      <td>...</td>\n",
       "    </tr>\n",
       "  </tbody>\n",
       "</table>\n",
       "</div>"
      ],
      "text/plain": [
       "     0\n",
       "0  發熱衣\n",
       "1   三花\n",
       "2  ..."
      ]
     },
     "execution_count": 10,
     "metadata": {},
     "output_type": "execute_result"
    }
   ],
   "source": [
    "# 讀取新詞檔案，由於每次新詞格式不一，因此需要自行整理成 one column 的 dataframe\n",
    "# 如下：\n",
    "pd.DataFrame([\"發熱衣\",\"三花\",\"...\"])"
   ]
  },
  {
   "cell_type": "code",
   "execution_count": 19,
   "metadata": {
    "collapsed": false
   },
   "outputs": [],
   "source": [
    "# 整理新詞檔案\n",
    "append_dict_path = \"Downloads/append_dict_0521.csv\"\n",
    "append_dict = pd.read_csv(append_dict_path, header=None)"
   ]
  },
  {
   "cell_type": "code",
   "execution_count": 22,
   "metadata": {
    "collapsed": false
   },
   "outputs": [],
   "source": [
    "# 整理完的行詞檔案可繼續接下面 script 工作\n",
    "# 包含刪除重複值、轉小寫、新增詞頻、給予 3 個 columns colnames \n",
    "append_dict.drop_duplicates(keep=\"last\", inplace=True)\n",
    "append_dict[0] = append_dict[0].str.lower()\n",
    "append_dict['freq'] = append_dict[0].map(lambda row: len(row))\n",
    "append_dict['tag'] = ''\n",
    "append_dict.columns = [\"word\", \"freq\", \"tag\"]"
   ]
  },
  {
   "cell_type": "code",
   "execution_count": 23,
   "metadata": {
    "collapsed": false
   },
   "outputs": [],
   "source": [
    "# 以新詞 append 主詞典（重要）\n",
    "dict_ = append_dict.append(dict_pd)\n",
    "# 刪除重複值，只保留後面出現的（主詞典出現的）\n",
    "dict_ = dict_.drop_duplicates(subset=\"word\", keep=\"last\")\n",
    "# 將 None 的欄位改為空值，轉乘 numpy 時才不會出現 'None' 字串 \n",
    "dict_ = dict_.fillna(\"\")"
   ]
  },
  {
   "cell_type": "code",
   "execution_count": 24,
   "metadata": {
    "collapsed": false
   },
   "outputs": [],
   "source": [
    "# 轉乘 numpy 存成 txt 檔，\n",
    "# 不使用 pd.to_csv 的原因是使用空白分隔時，當 word 有空格時，會被「\"」包覆，\n",
    "# 如：\"LOUIS VUITTON\" 19 。\n",
    "output_path = \"anaconda/lib/python3.5/site-packages/jieba/dict_20190521.txt\"\n",
    "np.savetxt(output_path, dict_.values, delimiter=\" \", fmt=\"%s\")"
   ]
  },
  {
   "cell_type": "code",
   "execution_count": 17,
   "metadata": {
    "collapsed": false
   },
   "outputs": [],
   "source": [
    "# output_path = \"Downloads/nd.csv\"\n",
    "# np.savetxt(output_path, append_dict.iloc[:,0].values, delimiter=\" \", fmt=\"%s\")"
   ]
  },
  {
   "cell_type": "code",
   "execution_count": null,
   "metadata": {
    "collapsed": true
   },
   "outputs": [],
   "source": []
  }
 ],
 "metadata": {
  "anaconda-cloud": {},
  "kernelspec": {
   "display_name": "Python [default]",
   "language": "python",
   "name": "python3"
  },
  "language_info": {
   "codemirror_mode": {
    "name": "ipython",
    "version": 3
   },
   "file_extension": ".py",
   "mimetype": "text/x-python",
   "name": "python",
   "nbconvert_exporter": "python",
   "pygments_lexer": "ipython3",
   "version": "3.5.6"
  }
 },
 "nbformat": 4,
 "nbformat_minor": 1
}
