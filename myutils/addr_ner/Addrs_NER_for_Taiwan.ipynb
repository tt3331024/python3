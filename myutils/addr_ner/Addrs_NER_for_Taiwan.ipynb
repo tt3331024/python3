{
 "cells": [
  {
   "cell_type": "code",
   "execution_count": 17,
   "metadata": {},
   "outputs": [],
   "source": [
    "import re\n",
    "import sys\n",
    "\n",
    "\n",
    "zipcode = '(?P<zipcode>^\\d{5}|^\\d{3})?'  # zipcode\n",
    "country = '(?P<台灣>[台臺]灣)?'           # country\n",
    "county = '(?P<縣市>\\D+?[縣市])?'          # City / County\n",
    "dist = '(?P<鄉鎮市區>\\D+?[鄉鎮市區])?'    # Township / District\n",
    "vil = '(?P<村里>\\D+?[村里])?'            # Village\n",
    "nb  = '(?P<鄰>\\d+鄰)?'                   # Neighborhood\n",
    "road = '(?P<路街道段>.+[路街道段])?'      # Road / Street / Boulevard / Section\n",
    "area = '(?P<區域>[^\\d]+)?'               # Area\n",
    "ln = '(?P<巷>\\d+巷)?'                    # Lane\n",
    "aly = '(?P<弄>\\d+弄)?'                   # Alley\n",
    "no = '(?P<號>\\d+[\\-之]?\\d?號)?'          # Number\n",
    "othr = '(?P<其他>.+)?'                   # Floor / Room / ...\n",
    "\n",
    "r = re.compile(\n",
    "    zipcode + country + county + dist + vil + nb + road + area + ln + aly + no + othr\n",
    ")"
   ]
  },
  {
   "cell_type": "code",
   "execution_count": 19,
   "metadata": {},
   "outputs": [
    {
     "data": {
      "text/plain": [
       "{'zipcode': '974',\n",
       " '台灣': '台灣',\n",
       " '縣市': '花蓮縣',\n",
       " '鄉鎮市區': '壽豐鄉',\n",
       " '村里': None,\n",
       " '鄰': None,\n",
       " '路街道段': None,\n",
       " '區域': '山嶺',\n",
       " '巷': None,\n",
       " '弄': None,\n",
       " '號': '18號',\n",
       " '其他': None}"
      ]
     },
     "execution_count": 19,
     "metadata": {},
     "output_type": "execute_result"
    }
   ],
   "source": [
    "g = r.match('974台灣花蓮縣壽豐鄉山嶺18號')\n",
    "g.groupdict()"
   ]
  },
  {
   "cell_type": "code",
   "execution_count": 20,
   "metadata": {},
   "outputs": [
    {
     "data": {
      "text/plain": [
       "{'zipcode': None,\n",
       " '台灣': None,\n",
       " '縣市': '台北市',\n",
       " '鄉鎮市區': '中山區',\n",
       " '村里': None,\n",
       " '鄰': None,\n",
       " '路街道段': '松江路',\n",
       " '區域': None,\n",
       " '巷': None,\n",
       " '弄': None,\n",
       " '號': '433號',\n",
       " '其他': None}"
      ]
     },
     "execution_count": 20,
     "metadata": {},
     "output_type": "execute_result"
    }
   ],
   "source": [
    "g = r.match('台北市中山區松江路433號')\n",
    "g.groupdict()"
   ]
  },
  {
   "cell_type": "code",
   "execution_count": 21,
   "metadata": {},
   "outputs": [
    {
     "data": {
      "text/plain": [
       "{'zipcode': None,\n",
       " '台灣': None,\n",
       " '縣市': '台北市',\n",
       " '鄉鎮市區': '中山區',\n",
       " '村里': None,\n",
       " '鄰': None,\n",
       " '路街道段': '中山北路一段',\n",
       " '區域': None,\n",
       " '巷': '18巷',\n",
       " '弄': '33弄',\n",
       " '號': '2之1號',\n",
       " '其他': '12樓'}"
      ]
     },
     "execution_count": 21,
     "metadata": {},
     "output_type": "execute_result"
    }
   ],
   "source": [
    "g = r.match('台北市中山區中山北路一段18巷33弄2之1號12樓')\n",
    "g.groupdict()"
   ]
  },
  {
   "cell_type": "code",
   "execution_count": null,
   "metadata": {},
   "outputs": [],
   "source": []
  }
 ],
 "metadata": {
  "kernelspec": {
   "display_name": "Python 3",
   "language": "python",
   "name": "python3"
  },
  "language_info": {
   "codemirror_mode": {
    "name": "ipython",
    "version": 3
   },
   "file_extension": ".py",
   "mimetype": "text/x-python",
   "name": "python",
   "nbconvert_exporter": "python",
   "pygments_lexer": "ipython3",
   "version": "3.8.5"
  }
 },
 "nbformat": 4,
 "nbformat_minor": 4
}
