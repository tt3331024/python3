{
 "cells": [
  {
   "cell_type": "code",
   "execution_count": null,
   "metadata": {},
   "outputs": [],
   "source": [
    "## 測試 MSSQL 上傳、更新資料速度"
   ]
  },
  {
   "cell_type": "markdown",
   "metadata": {},
   "source": [
    "* DB：Azure SQL Database   \n",
    "* Pricing Tier: S3"
   ]
  },
  {
   "cell_type": "code",
   "execution_count": 1,
   "metadata": {},
   "outputs": [],
   "source": [
    "import time\n",
    "import datetime\n",
    "import numpy as np\n",
    "import pandas as pd\n",
    "from hotaidata.connectdb import ConnectedMSSQL\n",
    "# engine: pyodbc, pyodbc.pooling=False\n",
    "\n",
    "today_datetime = datetime.date.today() # 不包含\n",
    "today_string_dash = today_datetime.strftime(\"%Y-%m-%d\")\n",
    "\n",
    "one_week_datetime = today_datetime + datetime.timedelta(days=-7)\n",
    "one_week_string_dash = one_week_datetime.strftime(\"%Y-%m-%d\")"
   ]
  },
  {
   "cell_type": "code",
   "execution_count": null,
   "metadata": {},
   "outputs": [],
   "source": [
    "# 讀取資料"
   ]
  },
  {
   "cell_type": "code",
   "execution_count": 2,
   "metadata": {},
   "outputs": [],
   "source": [
    "oneId_mapping_df = ConnectedMSSQL('oneid-hash.database.windows.net', 'oneid_hash_prod', 'jerryko').read_data(\"\"\"\n",
    "    SELECT OneID AS OneId, Service, MIN(CreateDate) AS CreateDate, MAX(UpdateDate) AS UpdateDate\n",
    "    FROM OneIDHashMapping \n",
    "    WHERE UpdateDate BETWEEN '{0}' AND '{1}'\n",
    "    GROUP BY OneID, Service\n",
    "\"\"\".format(one_week_string_dash, today_string_dash))"
   ]
  },
  {
   "cell_type": "code",
   "execution_count": 3,
   "metadata": {},
   "outputs": [],
   "source": [
    "new_table = oneId_mapping_df.pivot('OneId', 'Service', 'UpdateDate').reset_index()"
   ]
  },
  {
   "cell_type": "markdown",
   "metadata": {},
   "source": [
    "dataframe 共 173,645 列，7 欄。  \n",
    "但其中 6 欄含有大量 NULL，是一個稀疏矩陣。可能會影響到 insert 的速度。"
   ]
  },
  {
   "cell_type": "code",
   "execution_count": 6,
   "metadata": {},
   "outputs": [
    {
     "data": {
      "text/plain": [
       "(173645, 7)"
      ]
     },
     "execution_count": 6,
     "metadata": {},
     "output_type": "execute_result"
    }
   ],
   "source": [
    "new_table.shape"
   ]
  },
  {
   "cell_type": "markdown",
   "metadata": {},
   "source": [
    "### insert 資料\n",
    "由於會需要進行 MSSQL merge，因此先創建一個暫存表，為要更新的資料"
   ]
  },
  {
   "cell_type": "code",
   "execution_count": 8,
   "metadata": {},
   "outputs": [
    {
     "name": "stderr",
     "output_type": "stream",
     "text": [
      "D:\\ProgramData\\Anaconda3\\lib\\site-packages\\pandas\\io\\sql.py:1423: UserWarning: The provided table name 'OneId_LoninPlatform_temp' is not found exactly as such in the database after writing the table, possibly due to case sensitivity issues. Consider using lower case table names.\n",
      "  warnings.warn(msg, UserWarning)\n"
     ]
    }
   ],
   "source": [
    "tableau_db = ConnectedMSSQL('hc-media-db.database.windows.net', 'tableau', 'jerryko')\n",
    "tableau_db.execute_sql(\"TRUNCATE TABLE OneId_LoninPlatform_temp\")\n",
    "st = time.time()\n",
    "tableau_db.insert_into_data(new_table, 'OneId_LoninPlatform_temp')\n",
    "ed = time.time()"
   ]
  },
  {
   "cell_type": "code",
   "execution_count": 9,
   "metadata": {},
   "outputs": [
    {
     "data": {
      "text/plain": [
       "24.752785444259644"
      ]
     },
     "execution_count": 9,
     "metadata": {},
     "output_type": "execute_result"
    }
   ],
   "source": [
    "# insert 花費時間\n",
    "ed - st"
   ]
  },
  {
   "cell_type": "markdown",
   "metadata": {},
   "source": [
    "### update 資料\n",
    "使用 MSSQL merge 方法，將有比對到 pk 的資料進行更新，更新規則為 tmpe table 的欄為有值才會更新到主表；沒有比對到 pk 的資料，則代表為新資料，將進行 insert。"
   ]
  },
  {
   "cell_type": "code",
   "execution_count": 12,
   "metadata": {},
   "outputs": [],
   "source": [
    "update_query = \"\"\"\n",
    "    MERGE OneId_LoninPlatform AS f\n",
    "    USING OneId_LoninPlatform_Temp AS t\n",
    "    ON f.OneId = t.OneId\n",
    "    WHEN MATCHED THEN \n",
    "        UPDATE SET \n",
    "            f.TAPP = ISNULL(t.TAPP, f.TAPP),\n",
    "            f.ToyotaWeb = ISNULL(t.ToyotaWeb, f.ToyotaWeb),\n",
    "            f.LAPP = ISNULL(t.LAPP, f.LAPP),\n",
    "            f.LexusWeb = ISNULL(t.LexusWeb, f.LexusWeb),\n",
    "            f.YoxiApp = ISNULL(t.YoxiApp, f.YoxiApp),\n",
    "            f.YoxiWeb = ISNULL(t.YoxiWeb, f.YoxiWeb)\n",
    "    WHEN NOT MATCHED THEN\n",
    "        INSERT VALUES(t.OneId, t.TAPP, t.ToyotaWeb, t.LAPP, t.LexusWeb, t.YoxiApp, t.YoxiWeb);\n",
    "\"\"\""
   ]
  },
  {
   "cell_type": "code",
   "execution_count": 13,
   "metadata": {},
   "outputs": [],
   "source": [
    "st = time.time()\n",
    "tableau_db.execute_sql(update_query)\n",
    "et = time.time()"
   ]
  },
  {
   "cell_type": "markdown",
   "metadata": {},
   "source": [
    "主表資料量為 1,225,509；暫存表為 173,645。"
   ]
  },
  {
   "cell_type": "code",
   "execution_count": 14,
   "metadata": {},
   "outputs": [
    {
     "data": {
      "text/plain": [
       "28.036362886428833"
      ]
     },
     "execution_count": 14,
     "metadata": {},
     "output_type": "execute_result"
    }
   ],
   "source": [
    "# update 花費時間\n",
    "et - st"
   ]
  },
  {
   "cell_type": "code",
   "execution_count": null,
   "metadata": {},
   "outputs": [],
   "source": []
  }
 ],
 "metadata": {
  "kernelspec": {
   "display_name": "Python 3",
   "language": "python",
   "name": "python3"
  },
  "language_info": {
   "codemirror_mode": {
    "name": "ipython",
    "version": 3
   },
   "file_extension": ".py",
   "mimetype": "text/x-python",
   "name": "python",
   "nbconvert_exporter": "python",
   "pygments_lexer": "ipython3",
   "version": "3.8.8"
  }
 },
 "nbformat": 4,
 "nbformat_minor": 4
}
