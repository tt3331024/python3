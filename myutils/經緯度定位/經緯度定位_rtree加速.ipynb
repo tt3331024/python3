{
 "cells": [
  {
   "cell_type": "code",
   "execution_count": 10,
   "metadata": {},
   "outputs": [],
   "source": [
    "import pandas as pd\n",
    "import geopandas as gpd\n",
    "from hotaidata.connectdb import ConnectedBigQuery\n",
    "\n",
    "from shapely.geometry import Point\n",
    "from rtree import index"
   ]
  },
  {
   "cell_type": "code",
   "execution_count": 3,
   "metadata": {},
   "outputs": [],
   "source": [
    "# 資料讀取及整理\n",
    "datalake_db = ConnectedBigQuery(\"datalake\", r\"D:/Project/OTHER_token/hotaiconnected-datalake-346603-121e7d34a0bc.json\")\n",
    "leju = datalake_db.read_data(\"\"\"\n",
    "    SELECT * \n",
    "    FROM `hotaiconnected-datalake-346603.opendata.leju`\n",
    "\"\"\")\n",
    "leju = gpd.GeoDataFrame(leju, geometry=gpd.GeoSeries.from_wkt(leju['Geometry']))\n",
    "leju.drop(\"Geometry\", axis=1, inplace=True)\n",
    "leju['LivingSphereName'] = leju['City'] +'_'+ leju['LivingSphereName']"
   ]
  },
  {
   "cell_type": "code",
   "execution_count": 9,
   "metadata": {},
   "outputs": [
    {
     "data": {
      "text/html": [
       "<div>\n",
       "<style scoped>\n",
       "    .dataframe tbody tr th:only-of-type {\n",
       "        vertical-align: middle;\n",
       "    }\n",
       "\n",
       "    .dataframe tbody tr th {\n",
       "        vertical-align: top;\n",
       "    }\n",
       "\n",
       "    .dataframe thead th {\n",
       "        text-align: right;\n",
       "    }\n",
       "</style>\n",
       "<table border=\"1\" class=\"dataframe\">\n",
       "  <thead>\n",
       "    <tr style=\"text-align: right;\">\n",
       "      <th></th>\n",
       "      <th>SId</th>\n",
       "      <th>City</th>\n",
       "      <th>CityCode</th>\n",
       "      <th>Area</th>\n",
       "      <th>PostCode</th>\n",
       "      <th>LivingSphereName</th>\n",
       "      <th>Distance</th>\n",
       "      <th>OneYearAvgPrice</th>\n",
       "      <th>FiveYearAvgPrice</th>\n",
       "      <th>LivingSphereStatus</th>\n",
       "      <th>UpdatedDatetime</th>\n",
       "      <th>geometry</th>\n",
       "    </tr>\n",
       "  </thead>\n",
       "  <tbody>\n",
       "    <tr>\n",
       "      <th>0</th>\n",
       "      <td>10637</td>\n",
       "      <td>台中市</td>\n",
       "      <td>B</td>\n",
       "      <td>清水區</td>\n",
       "      <td>436</td>\n",
       "      <td>台中市_海巡署生活圈</td>\n",
       "      <td>13169.921936</td>\n",
       "      <td>0.00</td>\n",
       "      <td>0.00</td>\n",
       "      <td>2</td>\n",
       "      <td>2022-06-01 18:17:45</td>\n",
       "      <td>POLYGON ((120.54887 24.28088, 120.54826 24.282...</td>\n",
       "    </tr>\n",
       "    <tr>\n",
       "      <th>1</th>\n",
       "      <td>10640</td>\n",
       "      <td>台中市</td>\n",
       "      <td>B</td>\n",
       "      <td>霧峰區</td>\n",
       "      <td>413</td>\n",
       "      <td>台中市_霧峰市區生活圈</td>\n",
       "      <td>777.081638</td>\n",
       "      <td>17.60</td>\n",
       "      <td>16.21</td>\n",
       "      <td>1</td>\n",
       "      <td>2022-06-01 18:17:45</td>\n",
       "      <td>POLYGON ((120.71094 24.08128, 120.70950 24.081...</td>\n",
       "    </tr>\n",
       "    <tr>\n",
       "      <th>2</th>\n",
       "      <td>10657</td>\n",
       "      <td>台中市</td>\n",
       "      <td>B</td>\n",
       "      <td>西屯區,龍井區</td>\n",
       "      <td>407,434</td>\n",
       "      <td>台中市_東海生活圈</td>\n",
       "      <td>5917.291407</td>\n",
       "      <td>29.23</td>\n",
       "      <td>21.43</td>\n",
       "      <td>1</td>\n",
       "      <td>2022-06-01 18:17:45</td>\n",
       "      <td>POLYGON ((120.59798 24.18931, 120.59344 24.191...</td>\n",
       "    </tr>\n",
       "  </tbody>\n",
       "</table>\n",
       "</div>"
      ],
      "text/plain": [
       "     SId City CityCode     Area PostCode LivingSphereName      Distance  \\\n",
       "0  10637  台中市        B      清水區      436       台中市_海巡署生活圈  13169.921936   \n",
       "1  10640  台中市        B      霧峰區      413      台中市_霧峰市區生活圈    777.081638   \n",
       "2  10657  台中市        B  西屯區,龍井區  407,434        台中市_東海生活圈   5917.291407   \n",
       "\n",
       "   OneYearAvgPrice  FiveYearAvgPrice  LivingSphereStatus     UpdatedDatetime  \\\n",
       "0             0.00              0.00                   2 2022-06-01 18:17:45   \n",
       "1            17.60             16.21                   1 2022-06-01 18:17:45   \n",
       "2            29.23             21.43                   1 2022-06-01 18:17:45   \n",
       "\n",
       "                                            geometry  \n",
       "0  POLYGON ((120.54887 24.28088, 120.54826 24.282...  \n",
       "1  POLYGON ((120.71094 24.08128, 120.70950 24.081...  \n",
       "2  POLYGON ((120.59798 24.18931, 120.59344 24.191...  "
      ]
     },
     "execution_count": 9,
     "metadata": {},
     "output_type": "execute_result"
    }
   ],
   "source": [
    "leju.head(3)"
   ]
  },
  {
   "cell_type": "code",
   "execution_count": null,
   "metadata": {},
   "outputs": [],
   "source": [
    "def fast_search(x, y, rt_idx, df, col, multi=False):\n",
    "    \"\"\"使用 rtree 加速。當經、緯度有一為空值時，直接回傳np.nan。\n",
    "    反之則會進行比對，並以list或str方式回傳，取決於multi的值。\n",
    "    Args:\n",
    "      x: float. 查詢座標的經度\n",
    "      y: float. 查詢座標的緯度\n",
    "      rt_idx: rtree.index.Index. 經過rtree設定好的index物件。\n",
    "      df: dataframe of GeoPandas. 帶有polygon的geo df。\n",
    "      col: str. geo df中，polygon的對照名稱欄位。\n",
    "      multi: boolean. polygon是會重疊。這會影響一個查詢座標會不會對應到多的polygon。\n",
    "        如果設定為True，則會以list回傳，如果設定為False，則會只取第一個比對到的polygon名稱，並以str回傳。\n",
    "    Return:\n",
    "      df: dataframe of pandas.\n",
    "    \"\"\"\n",
    "    if np.isnan(x) or np.isnan(y):\n",
    "        return np.nan\n",
    "    \n",
    "    if multi:\n",
    "        name_list = []\n",
    "        for poly_id in rt_idx.intersection((x, y)):\n",
    "            if df.loc[poly_id, 'geometry'].contains(Point(x, y)):\n",
    "                name_list.append(df.loc[poly_id, col])\n",
    "            else:\n",
    "                continue\n",
    "\n",
    "        if name_list:\n",
    "            return name_list\n",
    "        else:\n",
    "            return np.nan\n",
    "    \n",
    "    else:\n",
    "        for poly_id in rt_idx.intersection((x, y)):\n",
    "            if df.loc[poly_id, 'geometry'].contains(Point(x, y)):\n",
    "                return df.loc[poly_id, col]\n",
    "            \n",
    "        return np.nan"
   ]
  },
  {
   "cell_type": "code",
   "execution_count": 11,
   "metadata": {},
   "outputs": [],
   "source": [
    "# 建立 生活圈 polygon 的 rtree index \n",
    "leju_idx = index.Index()\n",
    "for i, row in leju.iterrows():\n",
    "    leju_idx.insert(i, row['geometry'].bounds)"
   ]
  },
  {
   "cell_type": "code",
   "execution_count": 6,
   "metadata": {},
   "outputs": [],
   "source": [
    "# orderSession_tmp 中要有經緯度欄位"
   ]
  },
  {
   "cell_type": "code",
   "execution_count": 8,
   "metadata": {},
   "outputs": [],
   "source": [
    "pick_up_living_sphere = orderSession_tmp.apply(\n",
    "    lambda x: fast_search(x['PickUpLng'], x['PickUpLat'], leju_idx, leju, 'LivingSphereName'), axis=1\n",
    ").to_frame(name=\"PickUp\")"
   ]
  },
  {
   "cell_type": "code",
   "execution_count": null,
   "metadata": {},
   "outputs": [],
   "source": []
  }
 ],
 "metadata": {
  "kernelspec": {
   "display_name": "Python 3",
   "language": "python",
   "name": "python3"
  },
  "language_info": {
   "codemirror_mode": {
    "name": "ipython",
    "version": 3
   },
   "file_extension": ".py",
   "mimetype": "text/x-python",
   "name": "python",
   "nbconvert_exporter": "python",
   "pygments_lexer": "ipython3",
   "version": "3.8.5"
  }
 },
 "nbformat": 4,
 "nbformat_minor": 4
}
